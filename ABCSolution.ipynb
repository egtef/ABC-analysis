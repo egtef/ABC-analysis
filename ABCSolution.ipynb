{
 "cells": [
  {
   "cell_type": "markdown",
   "metadata": {},
   "source": [
    "# ABC Analysis"
   ]
  },
  {
   "cell_type": "code",
   "execution_count": 1,
   "metadata": {},
   "outputs": [],
   "source": [
    "# Import Libraries\n",
    "import pandas as pd\n",
    "import matplotlib.pyplot as plt\n",
    "import seaborn as sns\n",
    "import numpy as np"
   ]
  },
  {
   "cell_type": "code",
   "execution_count": 2,
   "metadata": {},
   "outputs": [],
   "source": [
    "# Import the dataset of store products\n",
    "# Read the file\n",
    "data = pd.read_csv(\"abc.csv\")"
   ]
  },
  {
   "cell_type": "code",
   "execution_count": 4,
   "metadata": {},
   "outputs": [
    {
     "data": {
      "text/html": [
       "<div>\n",
       "<style scoped>\n",
       "    .dataframe tbody tr th:only-of-type {\n",
       "        vertical-align: middle;\n",
       "    }\n",
       "\n",
       "    .dataframe tbody tr th {\n",
       "        vertical-align: top;\n",
       "    }\n",
       "\n",
       "    .dataframe thead th {\n",
       "        text-align: right;\n",
       "    }\n",
       "</style>\n",
       "<table border=\"1\" class=\"dataframe\">\n",
       "  <thead>\n",
       "    <tr style=\"text-align: right;\">\n",
       "      <th></th>\n",
       "      <th>StockCode</th>\n",
       "      <th>Description</th>\n",
       "      <th>quantity</th>\n",
       "      <th>revenue</th>\n",
       "    </tr>\n",
       "  </thead>\n",
       "  <tbody>\n",
       "    <tr>\n",
       "      <th>0</th>\n",
       "      <td>10080</td>\n",
       "      <td>check</td>\n",
       "      <td>22</td>\n",
       "      <td>0.00</td>\n",
       "    </tr>\n",
       "    <tr>\n",
       "      <th>1</th>\n",
       "      <td>10080</td>\n",
       "      <td>GROOVY CACTUS INFLATABLE</td>\n",
       "      <td>121</td>\n",
       "      <td>47.19</td>\n",
       "    </tr>\n",
       "    <tr>\n",
       "      <th>2</th>\n",
       "      <td>10120</td>\n",
       "      <td>DOGGY RUBBER</td>\n",
       "      <td>72</td>\n",
       "      <td>15.12</td>\n",
       "    </tr>\n",
       "    <tr>\n",
       "      <th>3</th>\n",
       "      <td>10124A</td>\n",
       "      <td>SPOTS ON RED BOOKCOVER TAPE</td>\n",
       "      <td>4</td>\n",
       "      <td>1.68</td>\n",
       "    </tr>\n",
       "    <tr>\n",
       "      <th>4</th>\n",
       "      <td>10124G</td>\n",
       "      <td>ARMY CAMO BOOKCOVER TAPE</td>\n",
       "      <td>8</td>\n",
       "      <td>3.36</td>\n",
       "    </tr>\n",
       "  </tbody>\n",
       "</table>\n",
       "</div>"
      ],
      "text/plain": [
       "  StockCode                  Description  quantity  revenue\n",
       "0     10080                        check        22     0.00\n",
       "1     10080     GROOVY CACTUS INFLATABLE       121    47.19\n",
       "2     10120                 DOGGY RUBBER        72    15.12\n",
       "3    10124A  SPOTS ON RED BOOKCOVER TAPE         4     1.68\n",
       "4    10124G     ARMY CAMO BOOKCOVER TAPE         8     3.36"
      ]
     },
     "execution_count": 4,
     "metadata": {},
     "output_type": "execute_result"
    }
   ],
   "source": [
    "data.head(5)"
   ]
  },
  {
   "cell_type": "code",
   "execution_count": 5,
   "metadata": {},
   "outputs": [],
   "source": [
    "#function for ABC Segmentation\n",
    "def ABC_segmentation(perc):\n",
    "   # Creates the 3 classes A, B, and C based on cost percentages (A-60%, B-25%, C-15%)\n",
    "    if perc > 0 and perc < 0.6:\n",
    "        return 'A'\n",
    "    elif perc >= 0.6 and perc < 0.85:\n",
    "        return 'B'\n",
    "    elif perc >= 0.85:\n",
    "        return 'C'"
   ]
  },
  {
   "cell_type": "code",
   "execution_count": 6,
   "metadata": {},
   "outputs": [
    {
     "data": {
      "text/html": [
       "<div>\n",
       "<style scoped>\n",
       "    .dataframe tbody tr th:only-of-type {\n",
       "        vertical-align: middle;\n",
       "    }\n",
       "\n",
       "    .dataframe tbody tr th {\n",
       "        vertical-align: top;\n",
       "    }\n",
       "\n",
       "    .dataframe thead th {\n",
       "        text-align: right;\n",
       "    }\n",
       "</style>\n",
       "<table border=\"1\" class=\"dataframe\">\n",
       "  <thead>\n",
       "    <tr style=\"text-align: right;\">\n",
       "      <th></th>\n",
       "      <th>StockCode</th>\n",
       "      <th>Description</th>\n",
       "      <th>quantity</th>\n",
       "      <th>revenue</th>\n",
       "    </tr>\n",
       "  </thead>\n",
       "  <tbody>\n",
       "    <tr>\n",
       "      <th>3436</th>\n",
       "      <td>DOT</td>\n",
       "      <td>DOTCOM POSTAGE</td>\n",
       "      <td>138</td>\n",
       "      <td>85834.48</td>\n",
       "    </tr>\n",
       "    <tr>\n",
       "      <th>1784</th>\n",
       "      <td>23084</td>\n",
       "      <td>RABBIT NIGHT LIGHT</td>\n",
       "      <td>25694</td>\n",
       "      <td>56894.39</td>\n",
       "    </tr>\n",
       "    <tr>\n",
       "      <th>862</th>\n",
       "      <td>22086</td>\n",
       "      <td>PAPER CHAIN KIT 50'S CHRISTMAS</td>\n",
       "      <td>15179</td>\n",
       "      <td>50907.49</td>\n",
       "    </tr>\n",
       "    <tr>\n",
       "      <th>1152</th>\n",
       "      <td>22423</td>\n",
       "      <td>REGENCY CAKESTAND 3 TIER</td>\n",
       "      <td>3161</td>\n",
       "      <td>40183.50</td>\n",
       "    </tr>\n",
       "    <tr>\n",
       "      <th>3036</th>\n",
       "      <td>85099B</td>\n",
       "      <td>JUMBO BAG RED RETROSPOT</td>\n",
       "      <td>15812</td>\n",
       "      <td>31101.76</td>\n",
       "    </tr>\n",
       "  </tbody>\n",
       "</table>\n",
       "</div>"
      ],
      "text/plain": [
       "     StockCode                     Description  quantity   revenue\n",
       "3436       DOT                  DOTCOM POSTAGE       138  85834.48\n",
       "1784     23084              RABBIT NIGHT LIGHT     25694  56894.39\n",
       "862      22086  PAPER CHAIN KIT 50'S CHRISTMAS     15179  50907.49\n",
       "1152     22423        REGENCY CAKESTAND 3 TIER      3161  40183.50\n",
       "3036    85099B         JUMBO BAG RED RETROSPOT     15812  31101.76"
      ]
     },
     "execution_count": 6,
     "metadata": {},
     "output_type": "execute_result"
    }
   ],
   "source": [
    "# order by the field of interest in decending order\n",
    "data= data.sort_values(by=['revenue'], ascending=False)\n",
    "data.head()"
   ]
  },
  {
   "cell_type": "code",
   "execution_count": 7,
   "metadata": {},
   "outputs": [
    {
     "data": {
      "text/html": [
       "<div>\n",
       "<style scoped>\n",
       "    .dataframe tbody tr th:only-of-type {\n",
       "        vertical-align: middle;\n",
       "    }\n",
       "\n",
       "    .dataframe tbody tr th {\n",
       "        vertical-align: top;\n",
       "    }\n",
       "\n",
       "    .dataframe thead th {\n",
       "        text-align: right;\n",
       "    }\n",
       "</style>\n",
       "<table border=\"1\" class=\"dataframe\">\n",
       "  <thead>\n",
       "    <tr style=\"text-align: right;\">\n",
       "      <th></th>\n",
       "      <th>StockCode</th>\n",
       "      <th>Description</th>\n",
       "      <th>quantity</th>\n",
       "      <th>revenue</th>\n",
       "      <th>RunCumRev</th>\n",
       "    </tr>\n",
       "  </thead>\n",
       "  <tbody>\n",
       "    <tr>\n",
       "      <th>3436</th>\n",
       "      <td>DOT</td>\n",
       "      <td>DOTCOM POSTAGE</td>\n",
       "      <td>138</td>\n",
       "      <td>85834.48</td>\n",
       "      <td>85834.48</td>\n",
       "    </tr>\n",
       "    <tr>\n",
       "      <th>1784</th>\n",
       "      <td>23084</td>\n",
       "      <td>RABBIT NIGHT LIGHT</td>\n",
       "      <td>25694</td>\n",
       "      <td>56894.39</td>\n",
       "      <td>142728.87</td>\n",
       "    </tr>\n",
       "    <tr>\n",
       "      <th>862</th>\n",
       "      <td>22086</td>\n",
       "      <td>PAPER CHAIN KIT 50'S CHRISTMAS</td>\n",
       "      <td>15179</td>\n",
       "      <td>50907.49</td>\n",
       "      <td>193636.36</td>\n",
       "    </tr>\n",
       "    <tr>\n",
       "      <th>1152</th>\n",
       "      <td>22423</td>\n",
       "      <td>REGENCY CAKESTAND 3 TIER</td>\n",
       "      <td>3161</td>\n",
       "      <td>40183.50</td>\n",
       "      <td>233819.86</td>\n",
       "    </tr>\n",
       "    <tr>\n",
       "      <th>3036</th>\n",
       "      <td>85099B</td>\n",
       "      <td>JUMBO BAG RED RETROSPOT</td>\n",
       "      <td>15812</td>\n",
       "      <td>31101.76</td>\n",
       "      <td>264921.62</td>\n",
       "    </tr>\n",
       "  </tbody>\n",
       "</table>\n",
       "</div>"
      ],
      "text/plain": [
       "     StockCode                     Description  quantity   revenue  RunCumRev\n",
       "3436       DOT                  DOTCOM POSTAGE       138  85834.48   85834.48\n",
       "1784     23084              RABBIT NIGHT LIGHT     25694  56894.39  142728.87\n",
       "862      22086  PAPER CHAIN KIT 50'S CHRISTMAS     15179  50907.49  193636.36\n",
       "1152     22423        REGENCY CAKESTAND 3 TIER      3161  40183.50  233819.86\n",
       "3036    85099B         JUMBO BAG RED RETROSPOT     15812  31101.76  264921.62"
      ]
     },
     "execution_count": 7,
     "metadata": {},
     "output_type": "execute_result"
    }
   ],
   "source": [
    "# create the column of the running Cumulative Revenue per SKU, use  the cumsum() function\n",
    "data['RunCumRev'] = data['revenue'].cumsum()\n",
    "data.head()"
   ]
  },
  {
   "cell_type": "code",
   "execution_count": 8,
   "metadata": {},
   "outputs": [
    {
     "name": "stdout",
     "output_type": "stream",
     "text": [
      "3939403.122\n"
     ]
    }
   ],
   "source": [
    "# Calculate total sum of additive cost\n",
    "Total_Sum = data['revenue'].sum()\n",
    "print(Total_Sum)"
   ]
  },
  {
   "cell_type": "code",
   "execution_count": 10,
   "metadata": {},
   "outputs": [
    {
     "data": {
      "text/html": [
       "<div>\n",
       "<style scoped>\n",
       "    .dataframe tbody tr th:only-of-type {\n",
       "        vertical-align: middle;\n",
       "    }\n",
       "\n",
       "    .dataframe tbody tr th {\n",
       "        vertical-align: top;\n",
       "    }\n",
       "\n",
       "    .dataframe thead th {\n",
       "        text-align: right;\n",
       "    }\n",
       "</style>\n",
       "<table border=\"1\" class=\"dataframe\">\n",
       "  <thead>\n",
       "    <tr style=\"text-align: right;\">\n",
       "      <th></th>\n",
       "      <th>StockCode</th>\n",
       "      <th>Description</th>\n",
       "      <th>quantity</th>\n",
       "      <th>revenue</th>\n",
       "      <th>RunCumRev</th>\n",
       "      <th>RunPerc</th>\n",
       "    </tr>\n",
       "  </thead>\n",
       "  <tbody>\n",
       "    <tr>\n",
       "      <th>3436</th>\n",
       "      <td>DOT</td>\n",
       "      <td>DOTCOM POSTAGE</td>\n",
       "      <td>138</td>\n",
       "      <td>85834.48</td>\n",
       "      <td>85834.48</td>\n",
       "      <td>0.021789</td>\n",
       "    </tr>\n",
       "    <tr>\n",
       "      <th>1784</th>\n",
       "      <td>23084</td>\n",
       "      <td>RABBIT NIGHT LIGHT</td>\n",
       "      <td>25694</td>\n",
       "      <td>56894.39</td>\n",
       "      <td>142728.87</td>\n",
       "      <td>0.036231</td>\n",
       "    </tr>\n",
       "    <tr>\n",
       "      <th>862</th>\n",
       "      <td>22086</td>\n",
       "      <td>PAPER CHAIN KIT 50'S CHRISTMAS</td>\n",
       "      <td>15179</td>\n",
       "      <td>50907.49</td>\n",
       "      <td>193636.36</td>\n",
       "      <td>0.049154</td>\n",
       "    </tr>\n",
       "    <tr>\n",
       "      <th>1152</th>\n",
       "      <td>22423</td>\n",
       "      <td>REGENCY CAKESTAND 3 TIER</td>\n",
       "      <td>3161</td>\n",
       "      <td>40183.50</td>\n",
       "      <td>233819.86</td>\n",
       "      <td>0.059354</td>\n",
       "    </tr>\n",
       "    <tr>\n",
       "      <th>3036</th>\n",
       "      <td>85099B</td>\n",
       "      <td>JUMBO BAG RED RETROSPOT</td>\n",
       "      <td>15812</td>\n",
       "      <td>31101.76</td>\n",
       "      <td>264921.62</td>\n",
       "      <td>0.067249</td>\n",
       "    </tr>\n",
       "  </tbody>\n",
       "</table>\n",
       "</div>"
      ],
      "text/plain": [
       "     StockCode                     Description  quantity   revenue  RunCumRev  \\\n",
       "3436       DOT                  DOTCOM POSTAGE       138  85834.48   85834.48   \n",
       "1784     23084              RABBIT NIGHT LIGHT     25694  56894.39  142728.87   \n",
       "862      22086  PAPER CHAIN KIT 50'S CHRISTMAS     15179  50907.49  193636.36   \n",
       "1152     22423        REGENCY CAKESTAND 3 TIER      3161  40183.50  233819.86   \n",
       "3036    85099B         JUMBO BAG RED RETROSPOT     15812  31101.76  264921.62   \n",
       "\n",
       "       RunPerc  \n",
       "3436  0.021789  \n",
       "1784  0.036231  \n",
       "862   0.049154  \n",
       "1152  0.059354  \n",
       "3036  0.067249  "
      ]
     },
     "execution_count": 10,
     "metadata": {},
     "output_type": "execute_result"
    }
   ],
   "source": [
    "# create the column of the running percentage\n",
    "data['RunPerc'] =  data['RunCumRev']/Total_Sum\n",
    "data.head()"
   ]
  },
  {
   "cell_type": "code",
   "execution_count": 11,
   "metadata": {},
   "outputs": [
    {
     "data": {
      "text/html": [
       "<div>\n",
       "<style scoped>\n",
       "    .dataframe tbody tr th:only-of-type {\n",
       "        vertical-align: middle;\n",
       "    }\n",
       "\n",
       "    .dataframe tbody tr th {\n",
       "        vertical-align: top;\n",
       "    }\n",
       "\n",
       "    .dataframe thead th {\n",
       "        text-align: right;\n",
       "    }\n",
       "</style>\n",
       "<table border=\"1\" class=\"dataframe\">\n",
       "  <thead>\n",
       "    <tr style=\"text-align: right;\">\n",
       "      <th></th>\n",
       "      <th>StockCode</th>\n",
       "      <th>Description</th>\n",
       "      <th>quantity</th>\n",
       "      <th>revenue</th>\n",
       "      <th>RunCumRev</th>\n",
       "      <th>RunPerc</th>\n",
       "      <th>Class</th>\n",
       "    </tr>\n",
       "  </thead>\n",
       "  <tbody>\n",
       "    <tr>\n",
       "      <th>3436</th>\n",
       "      <td>DOT</td>\n",
       "      <td>DOTCOM POSTAGE</td>\n",
       "      <td>138</td>\n",
       "      <td>85834.48</td>\n",
       "      <td>85834.48</td>\n",
       "      <td>0.021789</td>\n",
       "      <td>A</td>\n",
       "    </tr>\n",
       "    <tr>\n",
       "      <th>1784</th>\n",
       "      <td>23084</td>\n",
       "      <td>RABBIT NIGHT LIGHT</td>\n",
       "      <td>25694</td>\n",
       "      <td>56894.39</td>\n",
       "      <td>142728.87</td>\n",
       "      <td>0.036231</td>\n",
       "      <td>A</td>\n",
       "    </tr>\n",
       "    <tr>\n",
       "      <th>862</th>\n",
       "      <td>22086</td>\n",
       "      <td>PAPER CHAIN KIT 50'S CHRISTMAS</td>\n",
       "      <td>15179</td>\n",
       "      <td>50907.49</td>\n",
       "      <td>193636.36</td>\n",
       "      <td>0.049154</td>\n",
       "      <td>A</td>\n",
       "    </tr>\n",
       "    <tr>\n",
       "      <th>1152</th>\n",
       "      <td>22423</td>\n",
       "      <td>REGENCY CAKESTAND 3 TIER</td>\n",
       "      <td>3161</td>\n",
       "      <td>40183.50</td>\n",
       "      <td>233819.86</td>\n",
       "      <td>0.059354</td>\n",
       "      <td>A</td>\n",
       "    </tr>\n",
       "    <tr>\n",
       "      <th>3036</th>\n",
       "      <td>85099B</td>\n",
       "      <td>JUMBO BAG RED RETROSPOT</td>\n",
       "      <td>15812</td>\n",
       "      <td>31101.76</td>\n",
       "      <td>264921.62</td>\n",
       "      <td>0.067249</td>\n",
       "      <td>A</td>\n",
       "    </tr>\n",
       "  </tbody>\n",
       "</table>\n",
       "</div>"
      ],
      "text/plain": [
       "     StockCode                     Description  quantity   revenue  RunCumRev  \\\n",
       "3436       DOT                  DOTCOM POSTAGE       138  85834.48   85834.48   \n",
       "1784     23084              RABBIT NIGHT LIGHT     25694  56894.39  142728.87   \n",
       "862      22086  PAPER CHAIN KIT 50'S CHRISTMAS     15179  50907.49  193636.36   \n",
       "1152     22423        REGENCY CAKESTAND 3 TIER      3161  40183.50  233819.86   \n",
       "3036    85099B         JUMBO BAG RED RETROSPOT     15812  31101.76  264921.62   \n",
       "\n",
       "       RunPerc Class  \n",
       "3436  0.021789     A  \n",
       "1784  0.036231     A  \n",
       "862   0.049154     A  \n",
       "1152  0.059354     A  \n",
       "3036  0.067249     A  "
      ]
     },
     "execution_count": 11,
     "metadata": {},
     "output_type": "execute_result"
    }
   ],
   "source": [
    "# create the column of the class by using the user defined function\n",
    "data['Class'] = data['RunPerc'].apply(ABC_segmentation)\n",
    "data.head()"
   ]
  },
  {
   "cell_type": "code",
   "execution_count": 12,
   "metadata": {},
   "outputs": [
    {
     "data": {
      "text/plain": [
       "C    2584\n",
       "B     547\n",
       "A     312\n",
       "Name: Class, dtype: int64"
      ]
     },
     "execution_count": 12,
     "metadata": {},
     "output_type": "execute_result"
    }
   ],
   "source": [
    "# Show the numbers in each class\n",
    "data.Class.value_counts()"
   ]
  },
  {
   "cell_type": "code",
   "execution_count": 13,
   "metadata": {},
   "outputs": [
    {
     "name": "stdout",
     "output_type": "stream",
     "text": [
      "Revenue of Class A : 2361319.51\n",
      "Revenue of Class B : 986301.87\n",
      "Revenue of Class C : 591781.74\n"
     ]
    }
   ],
   "source": [
    "# Calculate and print total revenue per class\n",
    "\n",
    "print ('Revenue of Class A :', round(data[data.Class == 'A']['revenue'].sum(), 2))\n",
    "print ('Revenue of Class B :', round(data[data.Class == 'B']['revenue'].sum(), 2))\n",
    "print ('Revenue of Class C :', round(data[data.Class == 'C']['revenue'].sum(), 2))\n"
   ]
  },
  {
   "cell_type": "code",
   "execution_count": 14,
   "metadata": {},
   "outputs": [
    {
     "name": "stdout",
     "output_type": "stream",
     "text": [
      "Percent of Revenue of Class A : 59.94\n",
      "Percent of Revenue of Class B : 25.04\n",
      "Percent of Revenue of Class C : 15.02\n"
     ]
    }
   ],
   "source": [
    "# Calculate and print the percent of revenue per class\n",
    "print ('Percent of Revenue of Class A :', round(data[data.Class == 'A']['revenue'].sum()/data['revenue'].sum()*100,2))\n",
    "print ('Percent of Revenue of Class B :', round(data[data.Class == 'B']['revenue'].sum()/data['revenue'].sum()*100, 2))\n",
    "print ('Percent of Revenue of Class C :', round(data[data.Class == 'C']['revenue'].sum()/data['revenue'].sum()*100, 2))"
   ]
  },
  {
   "cell_type": "code",
   "execution_count": 15,
   "metadata": {},
   "outputs": [
    {
     "name": "stdout",
     "output_type": "stream",
     "text": [
      "Percent of Quantity Class A : 9.06\n",
      "Percent of Quantity Class B : 15.89\n",
      "Percent of Quantity Class C : 75.05\n"
     ]
    }
   ],
   "source": [
    "# Calculate and print the percent of quantity per class\n",
    "print ('Percent of Quantity Class A :', round(data[data.Class == 'A']['Class'].count()/data['Class'].count()*100, 2))\n",
    "print ('Percent of Quantity Class B :', round(data[data.Class == 'B']['Class'].count()/data['Class'].count()*100, 2))\n",
    "print ('Percent of Quantity Class C :', round(data[data.Class == 'C']['Class'].count()/data['Class'].count()*100, 2))\n"
   ]
  },
  {
   "cell_type": "code",
   "execution_count": 18,
   "metadata": {},
   "outputs": [
    {
     "data": {
      "image/png": "[encoded data removed]",
      "text/plain": [
       "<Figure size 432x288 with 1 Axes>"
      ]
     },
     "metadata": {
      "needs_background": "light"
     },
     "output_type": "display_data"
    }
   ],
   "source": [
    "# Convert the Cost column to a list\n",
    "visual = data['revenue'].tolist()\n",
    "y_pos = np.arange(len(visual))\n",
    "\n",
    "plt.plot(y_pos, visual)\n",
    "plt.ylabel('Revenue')\n",
    "plt.title('ABC Analysis - Revenue per SKU')\n",
    "plt.grid(True)\n",
    "#plt.ylim((0,100000))\n",
    "plt.show()"
   ]
  },
  {
   "cell_type": "code",
   "execution_count": 17,
   "metadata": {},
   "outputs": [
    {
     "data": {
      "image/png": "[encoded data removed]",
      "text/plain": [
       "<Figure size 432x288 with 1 Axes>"
      ]
     },
     "metadata": {
      "needs_background": "light"
     },
     "output_type": "display_data"
    }
   ],
   "source": [
    "# Convert the running percentage column to a list\n",
    "visual = data['RunPerc'].tolist()\n",
    "y_pos = np.arange(len(visual))\n",
    "\n",
    "plt.plot(y_pos, visual)\n",
    "plt.ylabel('Running Total Percentage')\n",
    "plt.title('ABC Analysis - Cumulative Revenue per SKU')\n",
    "plt.grid(True)\n",
    "plt.show()\n",
    "\n",
    "# Plot that list, Provide proper headings to the plot"
   ]
  },
  {
   "cell_type": "code",
   "execution_count": null,
   "metadata": {},
   "outputs": [],
   "source": []
  }
 ],
 "metadata": {
  "kernelspec": {
   "display_name": "Python 3",
   "language": "python",
   "name": "python3"
  },
  "language_info": {
   "codemirror_mode": {
    "name": "ipython",
    "version": 3
   },
   "file_extension": ".py",
   "mimetype": "text/x-python",
   "name": "python",
   "nbconvert_exporter": "python",
   "pygments_lexer": "ipython3",
   "version": "3.8.8"
  }
 },
 "nbformat": 4,
 "nbformat_minor": 4
}
